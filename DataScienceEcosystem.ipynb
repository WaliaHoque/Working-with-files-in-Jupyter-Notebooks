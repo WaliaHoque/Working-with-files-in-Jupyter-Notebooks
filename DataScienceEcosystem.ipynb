{
 "cells": [
  {
   "cell_type": "markdown",
   "id": "278a8e35-78bb-4bb7-bed3-721fe1561888",
   "metadata": {},
   "source": [
    "# Data Science Tools and Ecosystem\n"
   ]
  },
  {
   "cell_type": "markdown",
   "id": "4fe7226c-c035-455e-94a3-ecdd198a2658",
   "metadata": {},
   "source": [
    "In this notebook, Data Science Tools and Ecosystem are summarized.\n",
    "\n"
   ]
  },
  {
   "cell_type": "markdown",
   "id": "d87405d3-b5c0-4a07-8cc2-9e2f0dbdb8f0",
   "metadata": {},
   "source": [
    "Some of the popular languages that Data Scientists use are:\n",
    "1. Python\n",
    "2. R\n",
    "3. SQL\n",
    "\n"
   ]
  },
  {
   "cell_type": "markdown",
   "id": "3c0fc106-3a9a-4a07-b0de-318427e12712",
   "metadata": {},
   "source": [
    "Some of the commonly used libraries used by Data Scientists include:\n",
    "\n",
    "1. NumPy\n",
    "2. Pandas\n",
    "3. Matplotib\n",
    "4. Seaborn\n",
    "5. Keras"
   ]
  },
  {
   "cell_type": "markdown",
   "id": "485017c2-3e0c-4707-a915-8158fd922f9c",
   "metadata": {},
   "source": [
    "### Data Science Tools\n",
    "\n",
    "| Data Science Tools |\n",
    "|--------------------|\n",
    "| Jupyter Notebook|\n",
    "| Apache Spark |\n",
    "| Power BI |"
   ]
  },
  {
   "cell_type": "markdown",
   "id": "3aaab537-fee8-4b93-a28f-5f280266520d",
   "metadata": {},
   "source": [
    "### Below are a few examples of evaluating arithmetic expressions in Python.\n"
   ]
  },
  {
   "cell_type": "code",
   "execution_count": 33,
   "id": "39a9f5be-167a-4277-b66c-96a8bb821ce1",
   "metadata": {},
   "outputs": [
    {
     "name": "stdout",
     "output_type": "stream",
     "text": [
      "17\n"
     ]
    }
   ],
   "source": [
    "# This a simple arithmetic expression to mutiply then add integers.\n",
    "\n",
    "int= (3*4) + 5\n",
    "print (int)\n",
    "\n"
   ]
  },
  {
   "cell_type": "code",
   "execution_count": 41,
   "id": "6b6fc2ee-2c4a-4dd9-9b34-276fc8819498",
   "metadata": {},
   "outputs": [
    {
     "name": "stdout",
     "output_type": "stream",
     "text": [
      "3.3333333333333335\n"
     ]
    }
   ],
   "source": [
    "# This will convert 200 minutes to hours by diving by 60\n",
    "\n",
    "int= (200/60)\n",
    "print (int)"
   ]
  },
  {
   "cell_type": "markdown",
   "id": "fb0e4254-cc45-43d3-85ca-3e310039e09b",
   "metadata": {},
   "source": [
    "**Objectives**: \n",
    "- List of popular languages for Data Science \n",
    "- List of commonly used libraries used by Data Scientist\n",
    "- Table of Data Science Tools\n",
    "- Examples of evaluating arithmetic expressions in Python"
   ]
  },
  {
   "cell_type": "markdown",
   "id": "6f33a2a9-b9c1-4044-b51c-fc997bddfba4",
   "metadata": {},
   "source": [
    "## Author\n",
    "\n",
    "Walia Hoque"
   ]
  },
  {
   "cell_type": "code",
   "execution_count": null,
   "id": "b7b68954-1666-4d88-9d69-3f598b2e9621",
   "metadata": {},
   "outputs": [],
   "source": []
  }
 ],
 "metadata": {
  "kernelspec": {
   "display_name": "Python [conda env:base] *",
   "language": "python",
   "name": "conda-base-py"
  },
  "language_info": {
   "codemirror_mode": {
    "name": "ipython",
    "version": 3
   },
   "file_extension": ".py",
   "mimetype": "text/x-python",
   "name": "python",
   "nbconvert_exporter": "python",
   "pygments_lexer": "ipython3",
   "version": "3.12.7"
  }
 },
 "nbformat": 4,
 "nbformat_minor": 5
}
